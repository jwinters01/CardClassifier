{
 "cells": [
  {
   "cell_type": "markdown",
   "metadata": {},
   "source": [
    "# Imports and Constants"
   ]
  },
  {
   "cell_type": "code",
   "execution_count": 77,
   "metadata": {
    "collapsed": true
   },
   "outputs": [],
   "source": [
    "from mtgsdk import Card as crd\n",
    "from IPython.display import display, Image\n",
    "from PIL import Image\n",
    "from os import listdir\n",
    "from sklearn.cluster import KMeans\n",
    "import requests\n",
    "import io\n",
    "import os\n",
    "import pickle as pkl\n",
    "import pandas as pd\n",
    "import numpy as np\n",
    "import urllib.request\n",
    "import matplotlib.pyplot as plt\n",
    "\n",
    "DATA_DIR=\"Data\"\n",
    "IMAGE_PATH=\"{}/Images\""
   ]
  },
  {
   "cell_type": "markdown",
   "metadata": {},
   "source": [
    "# Getting the Database\n",
    "\n",
    "Run this cell if you do not have an up to date cardData.csv file in your data directory."
   ]
  },
  {
   "cell_type": "code",
   "execution_count": 8,
   "metadata": {
    "scrolled": false
   },
   "outputs": [
    {
     "name": "stdout",
     "output_type": "stream",
     "text": [
      "<class 'pandas.core.frame.DataFrame'>\n",
      "RangeIndex: 35983 entries, 0 to 35982\n",
      "Data columns (total 39 columns):\n",
      "artist            35983 non-null object\n",
      "border            22 non-null object\n",
      "cmc               35983 non-null float64\n",
      "color_identity    31897 non-null object\n",
      "colors            28223 non-null object\n",
      "flavor            21356 non-null object\n",
      "foreign_names     23871 non-null object\n",
      "hand              116 non-null float64\n",
      "id                35983 non-null object\n",
      "image_url         33753 non-null object\n",
      "layout            35983 non-null object\n",
      "legalities        35171 non-null object\n",
      "life              116 non-null float64\n",
      "loyalty           203 non-null float64\n",
      "mana_cost         31671 non-null object\n",
      "multiverse_id     33753 non-null float64\n",
      "name              35983 non-null object\n",
      "names             475 non-null object\n",
      "number            29781 non-null object\n",
      "original_text     33298 non-null object\n",
      "original_type     34034 non-null object\n",
      "power             16760 non-null object\n",
      "printings         35983 non-null object\n",
      "rarity            35983 non-null object\n",
      "release_date      1122 non-null object\n",
      "rulings           17348 non-null object\n",
      "set               35983 non-null object\n",
      "set_name          35983 non-null object\n",
      "source            1855 non-null object\n",
      "starter           47 non-null object\n",
      "subtypes          21721 non-null object\n",
      "supertypes        3738 non-null object\n",
      "text              33353 non-null object\n",
      "timeshifted       248 non-null object\n",
      "toughness         16760 non-null object\n",
      "type              35983 non-null object\n",
      "types             35977 non-null object\n",
      "variations        2115 non-null object\n",
      "watermark         3756 non-null object\n",
      "dtypes: float64(5), object(34)\n",
      "memory usage: 10.7+ MB\n"
     ]
    }
   ],
   "source": [
    "cards = crd.all()\n",
    "cDict = [c.__dict__ for c in cards]\n",
    "df = pd.DataFrame(cDict)\n",
    "if(not os.path.exists(DATA_DIR)):\n",
    "    os.makedirs(DATA_DIR)\n",
    "df.to_csv('Data/cardData.csv', encoding='utf-8')\n",
    "df.info()"
   ]
  },
  {
   "cell_type": "markdown",
   "metadata": {},
   "source": [
    "Run this cell if you already have the csv file."
   ]
  },
  {
   "cell_type": "code",
   "execution_count": 9,
   "metadata": {},
   "outputs": [
    {
     "name": "stdout",
     "output_type": "stream",
     "text": [
      "<class 'pandas.core.frame.DataFrame'>\n",
      "RangeIndex: 35983 entries, 0 to 35982\n",
      "Data columns (total 40 columns):\n",
      "Unnamed: 0        35983 non-null int64\n",
      "artist            35983 non-null object\n",
      "border            22 non-null object\n",
      "cmc               35983 non-null float64\n",
      "color_identity    31897 non-null object\n",
      "colors            28223 non-null object\n",
      "flavor            21356 non-null object\n",
      "foreign_names     23871 non-null object\n",
      "hand              116 non-null float64\n",
      "id                35983 non-null object\n",
      "image_url         33753 non-null object\n",
      "layout            35983 non-null object\n",
      "legalities        35171 non-null object\n",
      "life              116 non-null float64\n",
      "loyalty           203 non-null float64\n",
      "mana_cost         31671 non-null object\n",
      "multiverse_id     33753 non-null float64\n",
      "name              35983 non-null object\n",
      "names             475 non-null object\n",
      "number            29781 non-null object\n",
      "original_text     33298 non-null object\n",
      "original_type     34034 non-null object\n",
      "power             16760 non-null object\n",
      "printings         35983 non-null object\n",
      "rarity            35983 non-null object\n",
      "release_date      1122 non-null object\n",
      "rulings           17348 non-null object\n",
      "set               35983 non-null object\n",
      "set_name          35983 non-null object\n",
      "source            1855 non-null object\n",
      "starter           47 non-null object\n",
      "subtypes          21721 non-null object\n",
      "supertypes        3738 non-null object\n",
      "text              33353 non-null object\n",
      "timeshifted       248 non-null object\n",
      "toughness         16760 non-null object\n",
      "type              35977 non-null object\n",
      "types             35977 non-null object\n",
      "variations        2115 non-null object\n",
      "watermark         3756 non-null object\n",
      "dtypes: float64(5), int64(1), object(34)\n",
      "memory usage: 11.0+ MB\n"
     ]
    },
    {
     "name": "stderr",
     "output_type": "stream",
     "text": [
      "C:\\Users\\Nicholas\\Anaconda3\\lib\\site-packages\\IPython\\core\\interactiveshell.py:2698: DtypeWarning: Columns (2,18,25,29,30,34) have mixed types. Specify dtype option on import or set low_memory=False.\n",
      "  interactivity=interactivity, compiler=compiler, result=result)\n"
     ]
    }
   ],
   "source": [
    "df = pd.read_csv(\"Data/cardData.csv\")\n",
    "df.info()"
   ]
  },
  {
   "cell_type": "markdown",
   "metadata": {},
   "source": [
    "<h3>Trim dataframe to Contain Only Card Name and Image Path of Correct Set</h3>"
   ]
  },
  {
   "cell_type": "code",
   "execution_count": 10,
   "metadata": {},
   "outputs": [
    {
     "data": {
      "text/html": [
       "<div>\n",
       "<style>\n",
       "    .dataframe thead tr:only-child th {\n",
       "        text-align: right;\n",
       "    }\n",
       "\n",
       "    .dataframe thead th {\n",
       "        text-align: left;\n",
       "    }\n",
       "\n",
       "    .dataframe tbody tr th {\n",
       "        vertical-align: top;\n",
       "    }\n",
       "</style>\n",
       "<table border=\"1\" class=\"dataframe\">\n",
       "  <thead>\n",
       "    <tr style=\"text-align: right;\">\n",
       "      <th></th>\n",
       "      <th>name</th>\n",
       "      <th>set_name</th>\n",
       "      <th>image_url</th>\n",
       "    </tr>\n",
       "  </thead>\n",
       "  <tbody>\n",
       "    <tr>\n",
       "      <th>11932</th>\n",
       "      <td>Adanto Vanguard</td>\n",
       "      <td>Ixalan</td>\n",
       "      <td>http://gatherer.wizards.com/Handlers/Image.ash...</td>\n",
       "    </tr>\n",
       "    <tr>\n",
       "      <th>11933</th>\n",
       "      <td>Ashes of the Abhorrent</td>\n",
       "      <td>Ixalan</td>\n",
       "      <td>http://gatherer.wizards.com/Handlers/Image.ash...</td>\n",
       "    </tr>\n",
       "    <tr>\n",
       "      <th>11934</th>\n",
       "      <td>Axis of Mortality</td>\n",
       "      <td>Ixalan</td>\n",
       "      <td>http://gatherer.wizards.com/Handlers/Image.ash...</td>\n",
       "    </tr>\n",
       "    <tr>\n",
       "      <th>11935</th>\n",
       "      <td>Bellowing Aegisaur</td>\n",
       "      <td>Ixalan</td>\n",
       "      <td>http://gatherer.wizards.com/Handlers/Image.ash...</td>\n",
       "    </tr>\n",
       "    <tr>\n",
       "      <th>11936</th>\n",
       "      <td>Bishop of Rebirth</td>\n",
       "      <td>Ixalan</td>\n",
       "      <td>http://gatherer.wizards.com/Handlers/Image.ash...</td>\n",
       "    </tr>\n",
       "    <tr>\n",
       "      <th>11937</th>\n",
       "      <td>Bishop's Soldier</td>\n",
       "      <td>Ixalan</td>\n",
       "      <td>http://gatherer.wizards.com/Handlers/Image.ash...</td>\n",
       "    </tr>\n",
       "    <tr>\n",
       "      <th>11938</th>\n",
       "      <td>Bright Reprisal</td>\n",
       "      <td>Ixalan</td>\n",
       "      <td>http://gatherer.wizards.com/Handlers/Image.ash...</td>\n",
       "    </tr>\n",
       "    <tr>\n",
       "      <th>11939</th>\n",
       "      <td>Demystify</td>\n",
       "      <td>Ixalan</td>\n",
       "      <td>http://gatherer.wizards.com/Handlers/Image.ash...</td>\n",
       "    </tr>\n",
       "    <tr>\n",
       "      <th>11940</th>\n",
       "      <td>Duskborne Skymarcher</td>\n",
       "      <td>Ixalan</td>\n",
       "      <td>http://gatherer.wizards.com/Handlers/Image.ash...</td>\n",
       "    </tr>\n",
       "    <tr>\n",
       "      <th>11941</th>\n",
       "      <td>Emissary of Sunrise</td>\n",
       "      <td>Ixalan</td>\n",
       "      <td>http://gatherer.wizards.com/Handlers/Image.ash...</td>\n",
       "    </tr>\n",
       "  </tbody>\n",
       "</table>\n",
       "</div>"
      ],
      "text/plain": [
       "                         name set_name  \\\n",
       "11932         Adanto Vanguard   Ixalan   \n",
       "11933  Ashes of the Abhorrent   Ixalan   \n",
       "11934       Axis of Mortality   Ixalan   \n",
       "11935      Bellowing Aegisaur   Ixalan   \n",
       "11936       Bishop of Rebirth   Ixalan   \n",
       "11937        Bishop's Soldier   Ixalan   \n",
       "11938         Bright Reprisal   Ixalan   \n",
       "11939               Demystify   Ixalan   \n",
       "11940    Duskborne Skymarcher   Ixalan   \n",
       "11941     Emissary of Sunrise   Ixalan   \n",
       "\n",
       "                                               image_url  \n",
       "11932  http://gatherer.wizards.com/Handlers/Image.ash...  \n",
       "11933  http://gatherer.wizards.com/Handlers/Image.ash...  \n",
       "11934  http://gatherer.wizards.com/Handlers/Image.ash...  \n",
       "11935  http://gatherer.wizards.com/Handlers/Image.ash...  \n",
       "11936  http://gatherer.wizards.com/Handlers/Image.ash...  \n",
       "11937  http://gatherer.wizards.com/Handlers/Image.ash...  \n",
       "11938  http://gatherer.wizards.com/Handlers/Image.ash...  \n",
       "11939  http://gatherer.wizards.com/Handlers/Image.ash...  \n",
       "11940  http://gatherer.wizards.com/Handlers/Image.ash...  \n",
       "11941  http://gatherer.wizards.com/Handlers/Image.ash...  "
      ]
     },
     "execution_count": 10,
     "metadata": {},
     "output_type": "execute_result"
    }
   ],
   "source": [
    "df[[\"name\", \"image_url\"]].head(10)\n",
    "dftemp = df.loc[df['set_name'] == 'Ixalan']\n",
    "dfimg = dftemp[['name', 'set_name', 'image_url']].dropna()\n",
    "dfimg.head(10)"
   ]
  },
  {
   "cell_type": "code",
   "execution_count": 11,
   "metadata": {
    "collapsed": true,
    "scrolled": true
   },
   "outputs": [],
   "source": [
    "for index,row in dfimg.iterrows():\n",
    "    url=row.image_url\n",
    "    name = row['name']\n",
    "    set_name = row.set_name\n",
    "    directory = \"Data/Images/{}\".format(set_name)\n",
    "    if(not os.path.exists(directory)):\n",
    "        os.makedirs(directory)\n",
    "    urllib.request.urlretrieve(url, \"Data/Images/{}/{}.jpg\".format(set_name,name))"
   ]
  },
  {
   "cell_type": "code",
   "execution_count": 73,
   "metadata": {},
   "outputs": [],
   "source": [
    "def loadImages(path):\n",
    "    imagesList = listdir(path)\n",
    "    loadedImages = []\n",
    "    for image in imagesList:\n",
    "        img = Image.open(path + image)\n",
    "        loadedImages.append(img)\n",
    "    return loadedImages\n",
    "\n",
    "image = Image.open(\"/Users/Nicholas/Documents/CSE 391 Data Science/CardClassifier-master/Data/Images/Ixalan/Adanto Vanguard.jpg\")\n",
    "\n",
    "image = np.array(image, dtype=np.float64) / 255\n",
    "\n",
    "w, h, d = original_shape = tuple(image.shape)\n",
    "#assert d == 3\n",
    "image_array = np.reshape(image, (w * h, d))\n",
    "\n",
    "#arr = np.array(image)\n",
    "#np.array(arr).mean(axis=(0,1))\n",
    "#arr[:,:,:-1]"
   ]
  },
  {
   "cell_type": "code",
   "execution_count": 81,
   "metadata": {},
   "outputs": [
    {
     "name": "stdout",
     "output_type": "stream",
     "text": [
      "[[ 0.99404889  0.9940754   0.98008897  1.        ]\n",
      " [ 0.45039492  0.27992267  0.10481083  1.        ]\n",
      " [ 0.6054806   0.60413743  0.58175131  1.        ]\n",
      " [ 0.07830172  0.06289451  0.06503141  0.99973029]\n",
      " [ 0.37836549  0.37113725  0.34895686  1.        ]\n",
      " [ 0.85402995  0.83171637  0.67651793  1.        ]\n",
      " [ 0.60448179  0.61054003  0.20703537  1.        ]\n",
      " [ 0.43151956  0.43149572  0.41681467  1.        ]\n",
      " [ 0.88751877  0.89984983  0.87429242  1.        ]\n",
      " [ 0.73340463  0.86494355  0.83045752  1.        ]\n",
      " [ 0.00471648  0.00397456  0.00402756  0.02109168]\n",
      " [ 0.71922152  0.71714775  0.69701509  1.        ]\n",
      " [ 0.38799416  0.4318675   0.16009899  1.        ]\n",
      " [ 0.20762937  0.19801784  0.18461299  1.        ]\n",
      " [ 0.73417112  0.68163102  0.54227273  1.        ]\n",
      " [ 0.9694779   0.97048014  0.94510622  1.        ]\n",
      " [ 0.28378682  0.60939794  0.50596873  1.        ]\n",
      " [ 0.07679105  0.35689533  0.29673565  1.        ]\n",
      " [ 0.54719108  0.39573343  0.18007015  1.        ]\n",
      " [ 0.44402124  0.49456261  0.23775029  1.        ]\n",
      " [ 0.34470933  0.46256304  0.33879499  1.        ]\n",
      " [ 0.22678904  0.27483799  0.07224586  1.        ]\n",
      " [ 0.64766004  0.80363462  0.73638041  1.        ]\n",
      " [ 0.25828555  0.13103985  0.05198556  1.        ]\n",
      " [ 0.33580511  0.72520499  0.67800357  1.        ]\n",
      " [ 0.21239057  0.48189344  0.37740543  1.        ]\n",
      " [ 0.61195708  0.71026267  0.45768405  1.        ]\n",
      " [ 0.31247244  0.30891751  0.29933403  1.        ]\n",
      " [ 0.0558531   0.13115552  0.05983506  1.        ]\n",
      " [ 0.70491142  0.74354707  0.31185928  1.        ]\n",
      " [ 0.5193782   0.56677854  0.33876229  1.        ]\n",
      " [ 0.25836641  0.35345042  0.2171298   1.        ]\n",
      " [ 0.03447495  0.03507625  0.02820479  1.        ]\n",
      " [ 0.55744231  0.55372657  0.53165421  1.        ]\n",
      " [ 0.64466074  0.57000987  0.45061363  1.        ]\n",
      " [ 0.35977614  0.19621338  0.07300945  1.        ]\n",
      " [ 0.45724412  0.63143418  0.53263223  1.        ]\n",
      " [ 0.93602941  0.91876899  0.83471072  1.        ]\n",
      " [ 0.14144807  0.14016153  0.12266457  1.        ]\n",
      " [ 0.7026116   0.81192324  0.60896955  1.        ]\n",
      " [ 0.77350371  0.7440846   0.62750239  1.        ]\n",
      " [ 0.18490167  0.29376488  0.16245995  1.        ]\n",
      " [ 0.30121469  0.33696374  0.10253401  1.        ]\n",
      " [ 0.49819678  0.43899685  0.33890056  1.        ]\n",
      " [ 0.77503951  0.78890598  0.74762271  1.        ]\n",
      " [ 0.54603175  0.71347206  0.62129518  1.        ]\n",
      " [ 0.5032416   0.50113493  0.45565364  1.        ]\n",
      " [ 0.38318881  0.52668542  0.42802125  1.        ]\n",
      " [ 0.06596455  0.2190256   0.16144362  1.        ]\n",
      " [ 0.05635439  0.04546115  0.04807553  0.50573711]\n",
      " [ 0.66066197  0.6587078   0.63726152  1.        ]\n",
      " [ 0.39702614  0.31813725  0.21652505  1.        ]\n",
      " [ 0.76039378  0.63028232  0.3913758   1.        ]\n",
      " [ 0.50851159  0.79278075  0.74190434  1.        ]\n",
      " [ 0.30871441  0.40616246  0.27993332  1.        ]\n",
      " [ 0.83724987  0.84200603  0.81588738  1.        ]\n",
      " [ 0.89978907  0.87095068  0.75109626  1.        ]\n",
      " [ 0.80374757  0.84048718  0.45887707  1.        ]\n",
      " [ 0.65098039  0.49221668  0.30190761  1.        ]\n",
      " [ 0.09264358  0.53878459  0.53981366  1.        ]\n",
      " [ 0.14474855  0.08982843  0.03446351  1.        ]\n",
      " [ 0.26538818  0.26017488  0.24691971  1.        ]\n",
      " [ 0.95288968  0.95044696  0.92016543  1.        ]\n",
      " [ 0.1271572   0.2100977   0.07327093  1.        ]]\n"
     ]
    }
   ],
   "source": [
    "numberClust = 64\n",
    "kmeans = KMeans(n_clusters=numberClust, random_state=0)\n",
    "kmeans.fit(image_array)\n",
    "labels = kmeans.predict(image_array)\n",
    "\n",
    "#def recreate_image(codebook, labels, w, h):\n",
    "#    d = codebook.shape[1]\n",
    "#    image = np.zeros((w, h, d))\n",
    "#    label_idx = 0\n",
    "#    for i in range(w):\n",
    "#        for j in range(h):\n",
    "#            image[i][j] = codebook[labels[label_idx]]\n",
    "#            label_idx += 1\n",
    "#    return image\n",
    "\n",
    "#plt.clf()\n",
    "#ax = plt.axes([0, 0, 1, 1])\n",
    "#plt.axis('off')\n",
    "#plt.title('Quantized image (64 colors, K-Means)')\n",
    "#plt.imshow(recreate_image(kmeans.cluster_centers_, labels, w, h))\n",
    "\n",
    "#plt.show()\n",
    "print(kmeans.cluster_centers_)"
   ]
  },
  {
   "cell_type": "code",
   "execution_count": 51,
   "metadata": {},
   "outputs": [
    {
     "data": {
      "text/plain": [
       "(6, 2)"
      ]
     },
     "execution_count": 51,
     "metadata": {},
     "output_type": "execute_result"
    }
   ],
   "source": [
    "X = np.array([[1, 2], [1, 4], [1, 0], [4, 2], [4, 4], [4, 0]])\n",
    "X.shape"
   ]
  },
  {
   "cell_type": "code",
   "execution_count": 60,
   "metadata": {},
   "outputs": [
    {
     "data": {
      "text/plain": [
       "[array([0, 0, 0]),\n",
       " array([ 85.,  85.,  85.]),\n",
       " array([ 170.,  170.,  170.]),\n",
       " array([255, 255, 255])]"
      ]
     },
     "execution_count": 60,
     "metadata": {},
     "output_type": "execute_result"
    }
   ],
   "source": [
    "def makeClusters(n) :\n",
    "    L=[]\n",
    "    center0 = np.array([0, 0, 0])\n",
    "    L.append(center0)\n",
    "    centerFinal = np.array([255, 255, 255])\n",
    "    for i in range(1, n-1) :\n",
    "        center = (255*i)/(n-1)\n",
    "        L.append(np.array([center, center, center]))\n",
    "    L.append(centerFinal)\n",
    "    return L\n",
    "\n",
    "makeClusters(4)"
   ]
  },
  {
   "cell_type": "code",
   "execution_count": null,
   "metadata": {
    "collapsed": true
   },
   "outputs": [],
   "source": []
  }
 ],
 "metadata": {
  "kernelspec": {
   "display_name": "Python 3",
   "language": "python",
   "name": "python3"
  },
  "language_info": {
   "codemirror_mode": {
    "name": "ipython",
    "version": 3
   },
   "file_extension": ".py",
   "mimetype": "text/x-python",
   "name": "python",
   "nbconvert_exporter": "python",
   "pygments_lexer": "ipython3",
   "version": "3.6.3"
  }
 },
 "nbformat": 4,
 "nbformat_minor": 2
}
