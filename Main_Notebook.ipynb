{
 "cells": [
  {
   "cell_type": "markdown",
   "metadata": {},
   "source": [
    "# Imports"
   ]
  },
  {
   "cell_type": "code",
   "execution_count": 2,
   "metadata": {
    "collapsed": true
   },
   "outputs": [],
   "source": [
    "from mtgsdk import Card as crd\n",
    "from IPython.display import display, Image\n",
    "from PIL import Image\n",
    "import requests\n",
    "import io\n",
    "import pickle as pkl\n",
    "import pandas as pd\n",
    "import numpy as np\n",
    "import urllib.request"
   ]
  },
  {
   "cell_type": "markdown",
   "metadata": {},
   "source": [
    "# Getting the Database"
   ]
  },
  {
   "cell_type": "code",
   "execution_count": 3,
   "metadata": {},
   "outputs": [
    {
     "name": "stdout",
     "output_type": "stream",
     "text": [
      "<class 'pandas.core.frame.DataFrame'>\n",
      "RangeIndex: 35627 entries, 0 to 35626\n",
      "Data columns (total 39 columns):\n",
      "artist            35627 non-null object\n",
      "border            22 non-null object\n",
      "cmc               35627 non-null float64\n",
      "color_identity    31587 non-null object\n",
      "colors            27964 non-null object\n",
      "flavor            21121 non-null object\n",
      "foreign_names     23515 non-null object\n",
      "hand              116 non-null float64\n",
      "id                35627 non-null object\n",
      "image_url         33397 non-null object\n",
      "layout            35627 non-null object\n",
      "legalities        35046 non-null object\n",
      "life              116 non-null float64\n",
      "loyalty           198 non-null float64\n",
      "mana_cost         31368 non-null object\n",
      "multiverse_id     33397 non-null float64\n",
      "name              35627 non-null object\n",
      "names             475 non-null object\n",
      "number            29425 non-null object\n",
      "original_text     32948 non-null object\n",
      "original_type     33678 non-null object\n",
      "power             16578 non-null object\n",
      "printings         35627 non-null object\n",
      "rarity            35627 non-null object\n",
      "release_date      1122 non-null object\n",
      "rulings           17157 non-null object\n",
      "set               35627 non-null object\n",
      "set_name          35627 non-null object\n",
      "source            1855 non-null object\n",
      "starter           47 non-null object\n",
      "subtypes          21475 non-null object\n",
      "supertypes        3642 non-null object\n",
      "text              33031 non-null object\n",
      "timeshifted       248 non-null object\n",
      "toughness         16578 non-null object\n",
      "type              35627 non-null object\n",
      "types             35621 non-null object\n",
      "variations        2087 non-null object\n",
      "watermark         3728 non-null object\n",
      "dtypes: float64(5), object(34)\n",
      "memory usage: 10.6+ MB\n"
     ]
    }
   ],
   "source": [
    "cards = crd.all()\n",
    "cDict = [c.__dict__ for c in cards]\n",
    "df = pd.DataFrame(cDict)\n",
    "df.info()"
   ]
  },
  {
   "cell_type": "code",
   "execution_count": 4,
   "metadata": {},
   "outputs": [
    {
     "data": {
      "text/html": [
       "<div>\n",
       "<style>\n",
       "    .dataframe thead tr:only-child th {\n",
       "        text-align: right;\n",
       "    }\n",
       "\n",
       "    .dataframe thead th {\n",
       "        text-align: left;\n",
       "    }\n",
       "\n",
       "    .dataframe tbody tr th {\n",
       "        vertical-align: top;\n",
       "    }\n",
       "</style>\n",
       "<table border=\"1\" class=\"dataframe\">\n",
       "  <thead>\n",
       "    <tr style=\"text-align: right;\">\n",
       "      <th></th>\n",
       "      <th>name</th>\n",
       "      <th>image_url</th>\n",
       "    </tr>\n",
       "  </thead>\n",
       "  <tbody>\n",
       "    <tr>\n",
       "      <th>0</th>\n",
       "      <td>Adorable Kitten</td>\n",
       "      <td>http://gatherer.wizards.com/Handlers/Image.ash...</td>\n",
       "    </tr>\n",
       "    <tr>\n",
       "      <th>1</th>\n",
       "      <td>Aerial Toastmaster</td>\n",
       "      <td>http://gatherer.wizards.com/Handlers/Image.ash...</td>\n",
       "    </tr>\n",
       "    <tr>\n",
       "      <th>2</th>\n",
       "      <td>Amateur Auteur</td>\n",
       "      <td>http://gatherer.wizards.com/Handlers/Image.ash...</td>\n",
       "    </tr>\n",
       "    <tr>\n",
       "      <th>3</th>\n",
       "      <td>Amateur Auteur</td>\n",
       "      <td>http://gatherer.wizards.com/Handlers/Image.ash...</td>\n",
       "    </tr>\n",
       "    <tr>\n",
       "      <th>4</th>\n",
       "      <td>Amateur Auteur</td>\n",
       "      <td>http://gatherer.wizards.com/Handlers/Image.ash...</td>\n",
       "    </tr>\n",
       "    <tr>\n",
       "      <th>5</th>\n",
       "      <td>Amateur Auteur</td>\n",
       "      <td>http://gatherer.wizards.com/Handlers/Image.ash...</td>\n",
       "    </tr>\n",
       "    <tr>\n",
       "      <th>6</th>\n",
       "      <td>By Gnome Means</td>\n",
       "      <td>http://gatherer.wizards.com/Handlers/Image.ash...</td>\n",
       "    </tr>\n",
       "    <tr>\n",
       "      <th>7</th>\n",
       "      <td>Chivalrous Chevalier</td>\n",
       "      <td>http://gatherer.wizards.com/Handlers/Image.ash...</td>\n",
       "    </tr>\n",
       "    <tr>\n",
       "      <th>8</th>\n",
       "      <td>Do-It-Yourself Seraph</td>\n",
       "      <td>http://gatherer.wizards.com/Handlers/Image.ash...</td>\n",
       "    </tr>\n",
       "    <tr>\n",
       "      <th>9</th>\n",
       "      <td>Gimme Five</td>\n",
       "      <td>http://gatherer.wizards.com/Handlers/Image.ash...</td>\n",
       "    </tr>\n",
       "  </tbody>\n",
       "</table>\n",
       "</div>"
      ],
      "text/plain": [
       "                    name                                          image_url\n",
       "0        Adorable Kitten  http://gatherer.wizards.com/Handlers/Image.ash...\n",
       "1     Aerial Toastmaster  http://gatherer.wizards.com/Handlers/Image.ash...\n",
       "2         Amateur Auteur  http://gatherer.wizards.com/Handlers/Image.ash...\n",
       "3         Amateur Auteur  http://gatherer.wizards.com/Handlers/Image.ash...\n",
       "4         Amateur Auteur  http://gatherer.wizards.com/Handlers/Image.ash...\n",
       "5         Amateur Auteur  http://gatherer.wizards.com/Handlers/Image.ash...\n",
       "6         By Gnome Means  http://gatherer.wizards.com/Handlers/Image.ash...\n",
       "7   Chivalrous Chevalier  http://gatherer.wizards.com/Handlers/Image.ash...\n",
       "8  Do-It-Yourself Seraph  http://gatherer.wizards.com/Handlers/Image.ash...\n",
       "9             Gimme Five  http://gatherer.wizards.com/Handlers/Image.ash..."
      ]
     },
     "execution_count": 4,
     "metadata": {},
     "output_type": "execute_result"
    }
   ],
   "source": [
    "\n",
    "df[[\"name\", \"image_url\"]].head(10)\n",
    "dftemp = df[['name', 'image_url']].dropna()\n",
    "dftemp.head(10)"
   ]
  },
  {
   "cell_type": "code",
   "execution_count": 41,
   "metadata": {},
   "outputs": [
    {
     "data": {
      "text/plain": [
       "('local-filename.jpg', <http.client.HTTPMessage at 0x1fd8b9e0518>)"
      ]
     },
     "execution_count": 41,
     "metadata": {},
     "output_type": "execute_result"
    }
   ],
   "source": [
    "import urllib.request\n",
    "\n",
    "urllib.request.urlretrieve(df2[\"image_url\"][0], \"local-filename.jpg\")"
   ]
  },
  {
   "cell_type": "code",
   "execution_count": null,
   "metadata": {
    "collapsed": true
   },
   "outputs": [],
   "source": []
  }
 ],
 "metadata": {
  "kernelspec": {
   "display_name": "Python 3",
   "language": "python",
   "name": "python3"
  },
  "language_info": {
   "codemirror_mode": {
    "name": "ipython",
    "version": 3
   },
   "file_extension": ".py",
   "mimetype": "text/x-python",
   "name": "python",
   "nbconvert_exporter": "python",
   "pygments_lexer": "ipython3",
   "version": "3.6.3"
  }
 },
 "nbformat": 4,
 "nbformat_minor": 2
}
