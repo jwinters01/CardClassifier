{
 "cells": [
  {
   "cell_type": "markdown",
   "metadata": {},
   "source": [
    "# Imports"
   ]
  },
  {
   "cell_type": "code",
   "execution_count": 11,
   "metadata": {},
   "outputs": [],
   "source": [
    "from mtgsdk import Card as crd\n",
    "from IPython.display import display, Image\n",
    "from PIL import Image\n",
    "import requests\n",
    "import io\n",
    "import pickle as pkl\n",
    "import pandas as pd\n",
    "import numpy as np\n",
    "import urllib.request"
   ]
  },
  {
   "cell_type": "markdown",
   "metadata": {},
   "source": [
    "# Getting the Database"
   ]
  },
  {
   "cell_type": "code",
   "execution_count": 12,
   "metadata": {},
   "outputs": [
    {
     "name": "stdout",
     "output_type": "stream",
     "text": [
      "<class 'pandas.core.frame.DataFrame'>\n",
      "RangeIndex: 35983 entries, 0 to 35982\n",
      "Data columns (total 39 columns):\n",
      "artist            35983 non-null object\n",
      "border            22 non-null object\n",
      "cmc               35983 non-null float64\n",
      "color_identity    31897 non-null object\n",
      "colors            28223 non-null object\n",
      "flavor            21356 non-null object\n",
      "foreign_names     23871 non-null object\n",
      "hand              116 non-null float64\n",
      "id                35983 non-null object\n",
      "image_url         33753 non-null object\n",
      "layout            35983 non-null object\n",
      "legalities        35171 non-null object\n",
      "life              116 non-null float64\n",
      "loyalty           203 non-null float64\n",
      "mana_cost         31671 non-null object\n",
      "multiverse_id     33753 non-null float64\n",
      "name              35983 non-null object\n",
      "names             475 non-null object\n",
      "number            29781 non-null object\n",
      "original_text     33298 non-null object\n",
      "original_type     34034 non-null object\n",
      "power             16760 non-null object\n",
      "printings         35983 non-null object\n",
      "rarity            35983 non-null object\n",
      "release_date      1122 non-null object\n",
      "rulings           17348 non-null object\n",
      "set               35983 non-null object\n",
      "set_name          35983 non-null object\n",
      "source            1855 non-null object\n",
      "starter           47 non-null object\n",
      "subtypes          21721 non-null object\n",
      "supertypes        3738 non-null object\n",
      "text              33353 non-null object\n",
      "timeshifted       248 non-null object\n",
      "toughness         16760 non-null object\n",
      "type              35983 non-null object\n",
      "types             35977 non-null object\n",
      "variations        2115 non-null object\n",
      "watermark         3756 non-null object\n",
      "dtypes: float64(5), object(34)\n",
      "memory usage: 10.7+ MB\n"
     ]
    }
   ],
   "source": [
    "cards = crd.all()\n",
    "cDict = [c.__dict__ for c in cards]\n",
    "df = pd.DataFrame(cDict)\n",
    "df.info()"
   ]
  },
  {
   "cell_type": "code",
   "execution_count": 13,
   "metadata": {},
   "outputs": [
    {
     "data": {
      "text/html": [
       "<div>\n",
       "<style>\n",
       "    .dataframe thead tr:only-child th {\n",
       "        text-align: right;\n",
       "    }\n",
       "\n",
       "    .dataframe thead th {\n",
       "        text-align: left;\n",
       "    }\n",
       "\n",
       "    .dataframe tbody tr th {\n",
       "        vertical-align: top;\n",
       "    }\n",
       "</style>\n",
       "<table border=\"1\" class=\"dataframe\">\n",
       "  <thead>\n",
       "    <tr style=\"text-align: right;\">\n",
       "      <th></th>\n",
       "      <th>name</th>\n",
       "      <th>image_url</th>\n",
       "    </tr>\n",
       "  </thead>\n",
       "  <tbody>\n",
       "    <tr>\n",
       "      <th>0</th>\n",
       "      <td>Adorable Kitten</td>\n",
       "      <td>http://gatherer.wizards.com/Handlers/Image.ash...</td>\n",
       "    </tr>\n",
       "    <tr>\n",
       "      <th>1</th>\n",
       "      <td>Aerial Toastmaster</td>\n",
       "      <td>http://gatherer.wizards.com/Handlers/Image.ash...</td>\n",
       "    </tr>\n",
       "    <tr>\n",
       "      <th>2</th>\n",
       "      <td>Amateur Auteur</td>\n",
       "      <td>http://gatherer.wizards.com/Handlers/Image.ash...</td>\n",
       "    </tr>\n",
       "    <tr>\n",
       "      <th>3</th>\n",
       "      <td>Amateur Auteur</td>\n",
       "      <td>http://gatherer.wizards.com/Handlers/Image.ash...</td>\n",
       "    </tr>\n",
       "    <tr>\n",
       "      <th>4</th>\n",
       "      <td>Amateur Auteur</td>\n",
       "      <td>http://gatherer.wizards.com/Handlers/Image.ash...</td>\n",
       "    </tr>\n",
       "    <tr>\n",
       "      <th>5</th>\n",
       "      <td>Amateur Auteur</td>\n",
       "      <td>http://gatherer.wizards.com/Handlers/Image.ash...</td>\n",
       "    </tr>\n",
       "    <tr>\n",
       "      <th>6</th>\n",
       "      <td>By Gnome Means</td>\n",
       "      <td>http://gatherer.wizards.com/Handlers/Image.ash...</td>\n",
       "    </tr>\n",
       "    <tr>\n",
       "      <th>7</th>\n",
       "      <td>Chivalrous Chevalier</td>\n",
       "      <td>http://gatherer.wizards.com/Handlers/Image.ash...</td>\n",
       "    </tr>\n",
       "    <tr>\n",
       "      <th>8</th>\n",
       "      <td>Do-It-Yourself Seraph</td>\n",
       "      <td>http://gatherer.wizards.com/Handlers/Image.ash...</td>\n",
       "    </tr>\n",
       "    <tr>\n",
       "      <th>9</th>\n",
       "      <td>Gimme Five</td>\n",
       "      <td>http://gatherer.wizards.com/Handlers/Image.ash...</td>\n",
       "    </tr>\n",
       "  </tbody>\n",
       "</table>\n",
       "</div>"
      ],
      "text/plain": [
       "                    name                                          image_url\n",
       "0        Adorable Kitten  http://gatherer.wizards.com/Handlers/Image.ash...\n",
       "1     Aerial Toastmaster  http://gatherer.wizards.com/Handlers/Image.ash...\n",
       "2         Amateur Auteur  http://gatherer.wizards.com/Handlers/Image.ash...\n",
       "3         Amateur Auteur  http://gatherer.wizards.com/Handlers/Image.ash...\n",
       "4         Amateur Auteur  http://gatherer.wizards.com/Handlers/Image.ash...\n",
       "5         Amateur Auteur  http://gatherer.wizards.com/Handlers/Image.ash...\n",
       "6         By Gnome Means  http://gatherer.wizards.com/Handlers/Image.ash...\n",
       "7   Chivalrous Chevalier  http://gatherer.wizards.com/Handlers/Image.ash...\n",
       "8  Do-It-Yourself Seraph  http://gatherer.wizards.com/Handlers/Image.ash...\n",
       "9             Gimme Five  http://gatherer.wizards.com/Handlers/Image.ash..."
      ]
     },
     "execution_count": 13,
     "metadata": {},
     "output_type": "execute_result"
    }
   ],
   "source": [
    "\n",
    "df[[\"name\", \"image_url\"]].head(10)\n",
    "dftemp = df[['name', 'image_url']].dropna()\n",
    "dftemp.head(10)"
   ]
  },
  {
   "cell_type": "code",
   "execution_count": 14,
   "metadata": {},
   "outputs": [
    {
     "data": {
      "text/plain": [
       "('local-filename.jpg', <http.client.HTTPMessage at 0xa0bce48>)"
      ]
     },
     "execution_count": 14,
     "metadata": {},
     "output_type": "execute_result"
    }
   ],
   "source": [
    "import urllib.request\n",
    "\n",
    "urllib.request.urlretrieve(dftemp[\"image_url\"][0], \"local-filename.jpg\")"
   ]
  },
  {
   "cell_type": "code",
   "execution_count": 19,
   "metadata": {},
   "outputs": [
    {
     "data": {
      "text/plain": [
       "'http://gatherer.wizards.com/Handlers/Image.ashx?multiverseid=439391&type=card'"
      ]
     },
     "execution_count": 19,
     "metadata": {},
     "output_type": "execute_result"
    }
   ],
   "source": [
    "dftemp[\"image_url\"][1]"
   ]
  },
  {
   "cell_type": "code",
   "execution_count": 25,
   "metadata": {},
   "outputs": [],
   "source": [
    "import re\n",
    "import requests\n",
    "from bs4 import BeautifulSoup\n",
    "\n",
    "site = dftemp[\"image_url\"][1]\n",
    "\n",
    "response = requests.get(site)\n",
    "\n",
    "soup = BeautifulSoup(response.text, 'html.parser')\n",
    "img_tags = soup.find_all('img')\n",
    "\n",
    "urls = [img['src'] for img in img_tags]\n",
    "\n",
    "for url in urls:\n",
    "    filename = re.search(r'/([\\w_-]+[.](jpg|gif|png))$', url)\n",
    "    print(filename)\n",
    "    with open(filename.group(1), 'wb') as f:\n",
    "        if 'http' not in url:\n",
    "            # sometimes an image source can be relative \n",
    "            # if it is provide the base url which also happens \n",
    "            # to be the site variable atm. \n",
    "            url = '{}{}'.format(site, url)\n",
    "        response = requests.get(url)\n",
    "        f.write(response.content)"
   ]
  },
  {
   "cell_type": "code",
   "execution_count": null,
   "metadata": {
    "collapsed": true
   },
   "outputs": [],
   "source": []
  }
 ],
 "metadata": {
  "kernelspec": {
   "display_name": "Python 3",
   "language": "python",
   "name": "python3"
  },
  "language_info": {
   "codemirror_mode": {
    "name": "ipython",
    "version": 3
   },
   "file_extension": ".py",
   "mimetype": "text/x-python",
   "name": "python",
   "nbconvert_exporter": "python",
   "pygments_lexer": "ipython3",
   "version": "3.6.3"
  }
 },
 "nbformat": 4,
 "nbformat_minor": 2
}
