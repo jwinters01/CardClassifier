{
 "cells": [
  {
   "cell_type": "markdown",
   "metadata": {},
   "source": [
    "# Imports and Constants"
   ]
  },
  {
   "cell_type": "code",
   "execution_count": 23,
   "metadata": {
    "collapsed": true
   },
   "outputs": [],
   "source": [
    "from mtgsdk import Card as crd\n",
    "from IPython.display import display, Image\n",
    "from PIL import Image\n",
    "from os import listdir\n",
    "from sklearn.cluster import KMeans\n",
    "from sklearn.svm import SVC\n",
    "from sklearn.utils import shuffle\n",
    "import requests\n",
    "import io\n",
    "import os\n",
    "import pickle as pkl\n",
    "import pandas as pd\n",
    "import numpy as np\n",
    "import urllib.request\n",
    "import matplotlib.pyplot as plt\n",
    "\n",
    "DATA_DIR=\"Data\"\n",
    "IMAGE_PATH=\"{}/Images\""
   ]
  },
  {
   "cell_type": "markdown",
   "metadata": {},
   "source": [
    "# Getting the Database\n",
    "\n",
    "Run this cell if you do not have an up to date cardData.csv file in your data directory."
   ]
  },
  {
   "cell_type": "code",
   "execution_count": 8,
   "metadata": {
    "scrolled": false
   },
   "outputs": [
    {
     "name": "stdout",
     "output_type": "stream",
     "text": [
      "<class 'pandas.core.frame.DataFrame'>\n",
      "RangeIndex: 35983 entries, 0 to 35982\n",
      "Data columns (total 39 columns):\n",
      "artist            35983 non-null object\n",
      "border            22 non-null object\n",
      "cmc               35983 non-null float64\n",
      "color_identity    31897 non-null object\n",
      "colors            28223 non-null object\n",
      "flavor            21356 non-null object\n",
      "foreign_names     23871 non-null object\n",
      "hand              116 non-null float64\n",
      "id                35983 non-null object\n",
      "image_url         33753 non-null object\n",
      "layout            35983 non-null object\n",
      "legalities        35171 non-null object\n",
      "life              116 non-null float64\n",
      "loyalty           203 non-null float64\n",
      "mana_cost         31671 non-null object\n",
      "multiverse_id     33753 non-null float64\n",
      "name              35983 non-null object\n",
      "names             475 non-null object\n",
      "number            29781 non-null object\n",
      "original_text     33298 non-null object\n",
      "original_type     34034 non-null object\n",
      "power             16760 non-null object\n",
      "printings         35983 non-null object\n",
      "rarity            35983 non-null object\n",
      "release_date      1122 non-null object\n",
      "rulings           17348 non-null object\n",
      "set               35983 non-null object\n",
      "set_name          35983 non-null object\n",
      "source            1855 non-null object\n",
      "starter           47 non-null object\n",
      "subtypes          21721 non-null object\n",
      "supertypes        3738 non-null object\n",
      "text              33353 non-null object\n",
      "timeshifted       248 non-null object\n",
      "toughness         16760 non-null object\n",
      "type              35983 non-null object\n",
      "types             35977 non-null object\n",
      "variations        2115 non-null object\n",
      "watermark         3756 non-null object\n",
      "dtypes: float64(5), object(34)\n",
      "memory usage: 10.7+ MB\n"
     ]
    }
   ],
   "source": [
    "cards = crd.all()\n",
    "cDict = [c.__dict__ for c in cards]\n",
    "df = pd.DataFrame(cDict)\n",
    "if(not os.path.exists(DATA_DIR)):\n",
    "    os.makedirs(DATA_DIR)\n",
    "df.to_csv('Data/cardData.csv', encoding='utf-8')\n",
    "df.info()"
   ]
  },
  {
   "cell_type": "markdown",
   "metadata": {},
   "source": [
    "Run this cell if you already have the csv file."
   ]
  },
  {
   "cell_type": "code",
   "execution_count": 2,
   "metadata": {},
   "outputs": [
    {
     "name": "stdout",
     "output_type": "stream",
     "text": [
      "<class 'pandas.core.frame.DataFrame'>\n",
      "RangeIndex: 35983 entries, 0 to 35982\n",
      "Data columns (total 40 columns):\n",
      "Unnamed: 0        35983 non-null int64\n",
      "artist            35983 non-null object\n",
      "border            22 non-null object\n",
      "cmc               35983 non-null float64\n",
      "color_identity    31897 non-null object\n",
      "colors            28223 non-null object\n",
      "flavor            21356 non-null object\n",
      "foreign_names     23871 non-null object\n",
      "hand              116 non-null float64\n",
      "id                35983 non-null object\n",
      "image_url         33753 non-null object\n",
      "layout            35983 non-null object\n",
      "legalities        35171 non-null object\n",
      "life              116 non-null float64\n",
      "loyalty           203 non-null float64\n",
      "mana_cost         31671 non-null object\n",
      "multiverse_id     33753 non-null float64\n",
      "name              35983 non-null object\n",
      "names             475 non-null object\n",
      "number            29781 non-null object\n",
      "original_text     33298 non-null object\n",
      "original_type     34034 non-null object\n",
      "power             16760 non-null object\n",
      "printings         35983 non-null object\n",
      "rarity            35983 non-null object\n",
      "release_date      1122 non-null object\n",
      "rulings           17348 non-null object\n",
      "set               35983 non-null object\n",
      "set_name          35983 non-null object\n",
      "source            1855 non-null object\n",
      "starter           47 non-null object\n",
      "subtypes          21721 non-null object\n",
      "supertypes        3738 non-null object\n",
      "text              33353 non-null object\n",
      "timeshifted       248 non-null object\n",
      "toughness         16760 non-null object\n",
      "type              35977 non-null object\n",
      "types             35977 non-null object\n",
      "variations        2115 non-null object\n",
      "watermark         3756 non-null object\n",
      "dtypes: float64(5), int64(1), object(34)\n",
      "memory usage: 11.0+ MB\n"
     ]
    },
    {
     "name": "stderr",
     "output_type": "stream",
     "text": [
      "C:\\Users\\JWinters\\Anaconda3\\lib\\site-packages\\IPython\\core\\interactiveshell.py:2698: DtypeWarning: Columns (2,18,25,29,30,34) have mixed types. Specify dtype option on import or set low_memory=False.\n",
      "  interactivity=interactivity, compiler=compiler, result=result)\n"
     ]
    }
   ],
   "source": [
    "df = pd.read_csv(\"Data/cardData.csv\")\n",
    "df.info()"
   ]
  },
  {
   "cell_type": "markdown",
   "metadata": {},
   "source": [
    "<h3>Trim dataframe to Contain Only Card Name and Image Path of Correct Set</h3>"
   ]
  },
  {
   "cell_type": "code",
   "execution_count": 3,
   "metadata": {},
   "outputs": [
    {
     "data": {
      "text/html": [
       "<div>\n",
       "<style>\n",
       "    .dataframe thead tr:only-child th {\n",
       "        text-align: right;\n",
       "    }\n",
       "\n",
       "    .dataframe thead th {\n",
       "        text-align: left;\n",
       "    }\n",
       "\n",
       "    .dataframe tbody tr th {\n",
       "        vertical-align: top;\n",
       "    }\n",
       "</style>\n",
       "<table border=\"1\" class=\"dataframe\">\n",
       "  <thead>\n",
       "    <tr style=\"text-align: right;\">\n",
       "      <th></th>\n",
       "      <th>name</th>\n",
       "      <th>set_name</th>\n",
       "      <th>image_url</th>\n",
       "    </tr>\n",
       "  </thead>\n",
       "  <tbody>\n",
       "    <tr>\n",
       "      <th>11932</th>\n",
       "      <td>Adanto Vanguard</td>\n",
       "      <td>Ixalan</td>\n",
       "      <td>http://gatherer.wizards.com/Handlers/Image.ash...</td>\n",
       "    </tr>\n",
       "    <tr>\n",
       "      <th>11933</th>\n",
       "      <td>Ashes of the Abhorrent</td>\n",
       "      <td>Ixalan</td>\n",
       "      <td>http://gatherer.wizards.com/Handlers/Image.ash...</td>\n",
       "    </tr>\n",
       "    <tr>\n",
       "      <th>11934</th>\n",
       "      <td>Axis of Mortality</td>\n",
       "      <td>Ixalan</td>\n",
       "      <td>http://gatherer.wizards.com/Handlers/Image.ash...</td>\n",
       "    </tr>\n",
       "    <tr>\n",
       "      <th>11935</th>\n",
       "      <td>Bellowing Aegisaur</td>\n",
       "      <td>Ixalan</td>\n",
       "      <td>http://gatherer.wizards.com/Handlers/Image.ash...</td>\n",
       "    </tr>\n",
       "    <tr>\n",
       "      <th>11936</th>\n",
       "      <td>Bishop of Rebirth</td>\n",
       "      <td>Ixalan</td>\n",
       "      <td>http://gatherer.wizards.com/Handlers/Image.ash...</td>\n",
       "    </tr>\n",
       "    <tr>\n",
       "      <th>11937</th>\n",
       "      <td>Bishop's Soldier</td>\n",
       "      <td>Ixalan</td>\n",
       "      <td>http://gatherer.wizards.com/Handlers/Image.ash...</td>\n",
       "    </tr>\n",
       "    <tr>\n",
       "      <th>11938</th>\n",
       "      <td>Bright Reprisal</td>\n",
       "      <td>Ixalan</td>\n",
       "      <td>http://gatherer.wizards.com/Handlers/Image.ash...</td>\n",
       "    </tr>\n",
       "    <tr>\n",
       "      <th>11939</th>\n",
       "      <td>Demystify</td>\n",
       "      <td>Ixalan</td>\n",
       "      <td>http://gatherer.wizards.com/Handlers/Image.ash...</td>\n",
       "    </tr>\n",
       "    <tr>\n",
       "      <th>11940</th>\n",
       "      <td>Duskborne Skymarcher</td>\n",
       "      <td>Ixalan</td>\n",
       "      <td>http://gatherer.wizards.com/Handlers/Image.ash...</td>\n",
       "    </tr>\n",
       "    <tr>\n",
       "      <th>11941</th>\n",
       "      <td>Emissary of Sunrise</td>\n",
       "      <td>Ixalan</td>\n",
       "      <td>http://gatherer.wizards.com/Handlers/Image.ash...</td>\n",
       "    </tr>\n",
       "  </tbody>\n",
       "</table>\n",
       "</div>"
      ],
      "text/plain": [
       "                         name set_name  \\\n",
       "11932         Adanto Vanguard   Ixalan   \n",
       "11933  Ashes of the Abhorrent   Ixalan   \n",
       "11934       Axis of Mortality   Ixalan   \n",
       "11935      Bellowing Aegisaur   Ixalan   \n",
       "11936       Bishop of Rebirth   Ixalan   \n",
       "11937        Bishop's Soldier   Ixalan   \n",
       "11938         Bright Reprisal   Ixalan   \n",
       "11939               Demystify   Ixalan   \n",
       "11940    Duskborne Skymarcher   Ixalan   \n",
       "11941     Emissary of Sunrise   Ixalan   \n",
       "\n",
       "                                               image_url  \n",
       "11932  http://gatherer.wizards.com/Handlers/Image.ash...  \n",
       "11933  http://gatherer.wizards.com/Handlers/Image.ash...  \n",
       "11934  http://gatherer.wizards.com/Handlers/Image.ash...  \n",
       "11935  http://gatherer.wizards.com/Handlers/Image.ash...  \n",
       "11936  http://gatherer.wizards.com/Handlers/Image.ash...  \n",
       "11937  http://gatherer.wizards.com/Handlers/Image.ash...  \n",
       "11938  http://gatherer.wizards.com/Handlers/Image.ash...  \n",
       "11939  http://gatherer.wizards.com/Handlers/Image.ash...  \n",
       "11940  http://gatherer.wizards.com/Handlers/Image.ash...  \n",
       "11941  http://gatherer.wizards.com/Handlers/Image.ash...  "
      ]
     },
     "execution_count": 3,
     "metadata": {},
     "output_type": "execute_result"
    }
   ],
   "source": [
    "df[[\"name\", \"image_url\"]].head(10)\n",
    "dftemp = df.loc[df['set_name'] == 'Ixalan']\n",
    "dfimg = dftemp[['name', 'set_name', 'image_url']].dropna()\n",
    "dfimg.head(10)"
   ]
  },
  {
   "cell_type": "code",
   "execution_count": 11,
   "metadata": {
    "collapsed": true,
    "scrolled": true
   },
   "outputs": [],
   "source": [
    "for index,row in dfimg.iterrows():\n",
    "    url=row.image_url\n",
    "    name = row['name']\n",
    "    set_name = row.set_name\n",
    "    directory = \"Data/Images/{}\".format(set_name)\n",
    "    if(not os.path.exists(directory)):\n",
    "        os.makedirs(directory)\n",
    "    urllib.request.urlretrieve(url, \"Data/Images/{}/{}.jpg\".format(set_name,name))"
   ]
  },
  {
   "cell_type": "markdown",
   "metadata": {},
   "source": [
    "<h3>Converts Image file into nparray</h3>"
   ]
  },
  {
   "cell_type": "code",
   "execution_count": 20,
   "metadata": {},
   "outputs": [],
   "source": [
    "def loadImages(path):\n",
    "    imagesList = listdir(path)\n",
    "    loadedImages = []\n",
    "    for image in imagesList:\n",
    "        img = Image.open(path + image)\n",
    "        loadedImages.append(img)\n",
    "    return loadedImages\n",
    "\n",
    "image = Image.open(\"Data/Images/Ixalan/Fiery Cannonade.jpg\")\n",
    "\n",
    "image = np.array(image, dtype=np.float64) / 255\n",
    "\n",
    "w, h, d = original_shape = tuple(image.shape)\n",
    "#assert d == 3\n",
    "image_array = np.reshape(image, (w * h, d))\n",
    "image_array_sample = shuffle(image_array, random_state=0)[:1000]\n",
    "#arr = np.array(image)\n",
    "#np.array(arr).mean(axis=(0,1))\n",
    "#arr[:,:,:-1]"
   ]
  },
  {
   "cell_type": "markdown",
   "metadata": {},
   "source": [
    "<h3>Apply KMeans to get centroids</h3>"
   ]
  },
  {
   "cell_type": "code",
   "execution_count": 28,
   "metadata": {},
   "outputs": [
    {
     "name": "stdout",
     "output_type": "stream",
     "text": [
      "[[ 0.95686275  0.89372549  0.86060606]\n",
      " [ 0.19294118  0.22941176  0.25960784]\n",
      " [ 0.94117647  0.51058824  0.11529412]\n",
      " [ 0.07695473  0.06221254  0.06533527]\n",
      " [ 0.55294118  0.33578431  0.20147059]\n",
      " [ 0.50735294  0.46764706  0.45196078]\n",
      " [ 0.42426471  0.15171569  0.04117647]\n",
      " [ 0.80424837  0.27254902  0.18366013]\n",
      " [ 0.96337403  0.83492416  0.772697  ]\n",
      " [ 0.96666667  0.90784314  0.36666667]\n",
      " [ 0.36941176  0.35411765  0.34627451]\n",
      " [ 0.90980392  0.48739496  0.38207283]\n",
      " [ 0.63137255  0.59019608  0.57254902]\n",
      " [ 0.7577342   0.72505447  0.70588235]\n",
      " [ 0.03921569  0.03137255  0.03137255]\n",
      " [ 0.63078431  0.16156863  0.08568627]\n",
      " [ 0.1852187   0.13966817  0.09170437]\n",
      " [ 0.73137255  0.41176471  0.14313725]\n",
      " [ 0.01792717  0.01456583  0.01699346]\n",
      " [ 0.0248366   0.29542484  0.53856209]\n",
      " [ 0.42117647  0.3227451   0.25647059]\n",
      " [ 0.9905421   0.97093426  0.94348328]\n",
      " [ 0.96470588  0.66666667  0.18823529]\n",
      " [ 0.22058824  0.06127451  0.02745098]\n",
      " [ 0.10657439  0.20922722  0.28673587]\n",
      " [ 0.31764706  0.46039216  0.52392157]\n",
      " [ 0.51666667  0.20759804  0.06421569]\n",
      " [ 0.91111111  0.60718954  0.47385621]\n",
      " [ 0.27882353  0.33019608  0.3654902 ]\n",
      " [ 0.95686275  0.7878225   0.7122807 ]\n",
      " [ 0.96582633  0.28403361  0.13893557]\n",
      " [ 0.04404223  0.08174962  0.10497738]\n",
      " [ 0.27137255  0.20941176  0.17686275]\n",
      " [ 0.76339869  0.4745098   0.40522876]\n",
      " [ 0.90252101  0.41176471  0.29355742]\n",
      " [ 0.96874811  0.92295626  0.88917044]\n",
      " [ 0.63607843  0.30823529  0.13411765]\n",
      " [ 0.07201426  0.23458111  0.34081996]\n",
      " [ 0.08392157  0.14745098  0.20196078]\n",
      " [ 0.78627451  0.63529412  0.20196078]\n",
      " [ 0.95137255  0.79215686  0.28470588]\n",
      " [ 0.50039216  0.08        0.03215686]\n",
      " [ 0.45539216  0.41421569  0.38431373]\n",
      " [ 0.82296919  0.49019608  0.16470588]\n",
      " [ 0.89254902  0.40862745  0.09254902]\n",
      " [ 0.21019608  0.32627451  0.40705882]\n",
      " [ 0.82962963  0.35250545  0.25533769]\n",
      " [ 0.66078431  0.52091503  0.46993464]\n",
      " [ 0.68980392  0.34901961  0.08156863]\n",
      " [ 0.80196078  0.18823529  0.11470588]\n",
      " [ 0.96339869  0.70980392  0.27581699]\n",
      " [ 0.02364825  0.03683898  0.05822935]\n",
      " [ 0.59558824  0.28382353  0.06617647]\n",
      " [ 0.68907563  0.65434174  0.63753501]\n",
      " [ 0.55163399  0.51470588  0.5003268 ]\n",
      " [ 0.95625943  0.58491704  0.12971342]\n",
      " [ 0.13194925  0.0438293   0.02260669]\n",
      " [ 0.84201681  0.78823529  0.75994398]\n",
      " [ 0.98823529  0.95294118  0.14901961]\n",
      " [ 0.30539216  0.09313725  0.03480392]\n",
      " [ 0.4627451   0.25735294  0.19264706]\n",
      " [ 0.32156863  0.26131907  0.22994652]\n",
      " [ 0.98431373  0.45098039  0.33333333]\n",
      " [ 0.15843137  0.26156863  0.34313725]]\n"
     ]
    }
   ],
   "source": [
    "numberClust = 64\n",
    "kmeans = KMeans(n_clusters=numberClust, random_state=0)\n",
    "kmeans.fit(image_array_sample)\n",
    "labels = kmeans.predict(image_array)\n",
    "centers = kmeans.cluster_centers_[:,:-1]\n",
    "print(centers)"
   ]
  },
  {
   "cell_type": "markdown",
   "metadata": {},
   "source": [
    "<h3>Recreate Image</h3>"
   ]
  },
  {
   "cell_type": "code",
   "execution_count": 22,
   "metadata": {},
   "outputs": [
    {
     "data": {
      "image/png": "[encoded data removed]",
      "text/plain": [
       "<matplotlib.figure.Figure at 0x270b0e0b748>"
      ]
     },
     "metadata": {},
     "output_type": "display_data"
    }
   ],
   "source": [
    "def recreate_image(codebook, labels, w, h):\n",
    "    d = codebook.shape[1]\n",
    "    image = np.zeros((w, h, d))\n",
    "    label_idx = 0\n",
    "    for i in range(w):\n",
    "        for j in range(h):\n",
    "            image[i][j] = codebook[labels[label_idx]]\n",
    "            label_idx += 1\n",
    "    return image\n",
    "\n",
    "plt.clf()\n",
    "ax = plt.axes([0, 0, 1, 1])\n",
    "plt.axis('off')\n",
    "plt.title('Quantized image (64 colors, K-Means)')\n",
    "plt.imshow(recreate_image(kmeans.cluster_centers_, labels, w, h))\n",
    "\n",
    "plt.show()"
   ]
  },
  {
   "cell_type": "markdown",
   "metadata": {},
   "source": [
    "<h3>Compare to Input Data</h3>"
   ]
  },
  {
   "cell_type": "code",
   "execution_count": 26,
   "metadata": {},
   "outputs": [
    {
     "name": "stdout",
     "output_type": "stream",
     "text": [
      "[[ 0.06896222  0.06867527  0.05681492]\n",
      " [ 0.67294118  0.64522876  0.56653595]\n",
      " [ 0.37657952  0.32984749  0.26601307]\n",
      " [ 0.81546218  0.81098039  0.75943978]\n",
      " [ 0.92235294  0.7227451   0.39333333]\n",
      " [ 0.70065359  0.39281046  0.30849673]\n",
      " [ 0.97189542  0.93899782  0.87908497]\n",
      " [ 0.43594771  0.49869281  0.51013072]\n",
      " [ 0.17254902  0.1855615   0.17094474]\n",
      " [ 0.38088235  0.23235294  0.16078431]\n",
      " [ 0.20160428  0.12762923  0.0828877 ]\n",
      " [ 0.05087984  0.02765209  0.02564103]\n",
      " [ 0.77167756  0.73028322  0.64204793]\n",
      " [ 0.45697809  0.41845444  0.33010381]\n",
      " [ 0.25955882  0.33504902  0.36372549]\n",
      " [ 0.59934641  0.25751634  0.21045752]\n",
      " [ 0.66834734  0.50868347  0.41904762]\n",
      " [ 0.8245098   0.525       0.43382353]\n",
      " [ 0.27124183  0.22331155  0.1708061 ]\n",
      " [ 0.98431373  0.93823529  0.43627451]\n",
      " [ 0.8054902   0.57372549  0.3172549 ]\n",
      " [ 0.72592593  0.74901961  0.7416122 ]\n",
      " [ 0.33703704  0.37625272  0.3708061 ]\n",
      " [ 0.89444444  0.86405229  0.80065359]\n",
      " [ 0.27773933  0.14048443  0.07358708]\n",
      " [ 0.98588235  0.99254902  0.97647059]\n",
      " [ 0.12839506  0.1328976   0.12069717]\n",
      " [ 0.60441176  0.63137255  0.62843137]\n",
      " [ 0.53594771  0.34901961  0.04052288]\n",
      " [ 0.41120448  0.19719888  0.06106443]\n",
      " [ 0.69954751  0.70045249  0.65595777]\n",
      " [ 0.45294118  0.34431373  0.27098039]\n",
      " [ 0.53019608  0.51294118  0.46745098]\n",
      " [ 0.9047619   0.78263305  0.65042017]\n",
      " [ 0.64705882  0.43137255  0.14019608]\n",
      " [ 0.60147059  0.33970588  0.26862745]\n",
      " [ 0.71416122  0.32026144  0.23616558]\n",
      " [ 0.01623861  0.00624137  0.01888981]\n",
      " [ 0.20576701  0.25859285  0.26805075]\n",
      " [ 0.96029412  0.88823529  0.37745098]\n",
      " [ 0.34479638  0.42232278  0.45128205]\n",
      " [ 0.54823529  0.44627451  0.35372549]\n",
      " [ 0.83137255  0.65546218  0.34733894]\n",
      " [ 0.67960784  0.47176471  0.27490196]\n",
      " [ 0.83305322  0.61288515  0.51988796]\n",
      " [ 0.91127451  0.92794118  0.93578431]\n",
      " [ 0.30713012  0.32655971  0.314082  ]\n",
      " [ 0.80261438  0.82527233  0.84923747]\n",
      " [ 0.80285205  0.78413547  0.70071301]\n",
      " [ 0.14673203  0.06993464  0.04052288]\n",
      " [ 0.39764706  0.37202614  0.32      ]\n",
      " [ 0.91328976  0.79215686  0.34684096]\n",
      " [ 0.45339367  0.44464555  0.41900452]\n",
      " [ 0.34578005  0.30093777  0.24015345]\n",
      " [ 0.51876751  0.56246499  0.57983193]\n",
      " [ 0.59509804  0.58529412  0.51078431]\n",
      " [ 0.09892157  0.0995098   0.08607843]\n",
      " [ 0.29462916  0.26973572  0.22489344]\n",
      " [ 0.47787115  0.27394958  0.1977591 ]\n",
      " [ 0.79477124  0.45947712  0.37320261]\n",
      " [ 0.11437908  0.1751634   0.20261438]\n",
      " [ 0.74705882  0.55294118  0.47124183]\n",
      " [ 0.95686275  0.96470588  0.67058824]\n",
      " [ 0.2189158   0.17324106  0.12710496]]\n"
     ]
    }
   ],
   "source": [
    "test_img = Image.open(\"Data/test-images/fcTest.jpg\")\n",
    "test_img = np.array(test_img, dtype=np.float64) / 255\n",
    "\n",
    "w, h, d = test_original_shape = tuple(test_img.shape)\n",
    "\n",
    "test_img_array = np.reshape(test_img, (w * h, d))\n",
    "test_img_array_sample = shuffle(test_img_array, random_state=0)[:1000]\n",
    "\n",
    "# Apply Kmeans\n",
    "\n",
    "test_kmeans = KMeans(n_clusters=numberClust, random_state=0)\n",
    "test_kmeans.fit(test_img_array_sample)\n",
    "test_labels = test_kmeans.predict(test_img_array)\n",
    "print(test_kmeans.cluster_centers_)\n"
   ]
  },
  {
   "cell_type": "code",
   "execution_count": 29,
   "metadata": {
    "collapsed": true
   },
   "outputs": [],
   "source": []
  },
  {
   "cell_type": "code",
   "execution_count": 60,
   "metadata": {},
   "outputs": [
    {
     "data": {
      "text/plain": [
       "[array([0, 0, 0]),\n",
       " array([ 85.,  85.,  85.]),\n",
       " array([ 170.,  170.,  170.]),\n",
       " array([255, 255, 255])]"
      ]
     },
     "execution_count": 60,
     "metadata": {},
     "output_type": "execute_result"
    }
   ],
   "source": [
    "def makeClusters(n) :\n",
    "    L=[]\n",
    "    center0 = np.array([0, 0, 0])\n",
    "    L.append(center0)\n",
    "    centerFinal = np.array([255, 255, 255])\n",
    "    for i in range(1, n-1) :\n",
    "        center = (255*i)/(n-1)\n",
    "        L.append(np.array([center, center, center]))\n",
    "    L.append(centerFinal)\n",
    "    return L\n",
    "\n",
    "makeClusters(4)"
   ]
  },
  {
   "cell_type": "code",
   "execution_count": null,
   "metadata": {
    "collapsed": true
   },
   "outputs": [],
   "source": []
  }
 ],
 "metadata": {
  "kernelspec": {
   "display_name": "Python 3",
   "language": "python",
   "name": "python3"
  },
  "language_info": {
   "codemirror_mode": {
    "name": "ipython",
    "version": 3
   },
   "file_extension": ".py",
   "mimetype": "text/x-python",
   "name": "python",
   "nbconvert_exporter": "python",
   "pygments_lexer": "ipython3",
   "version": "3.6.3"
  }
 },
 "nbformat": 4,
 "nbformat_minor": 2
}
