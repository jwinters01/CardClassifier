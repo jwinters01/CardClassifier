{
 "cells": [
  {
   "cell_type": "markdown",
   "metadata": {},
   "source": [
    "# Imports and Constants"
   ]
  },
  {
   "cell_type": "code",
   "execution_count": 2,
   "metadata": {
    "collapsed": true
   },
   "outputs": [],
   "source": [
    "from mtgsdk import Card as crd\n",
    "from IPython.display import display, Image\n",
    "from PIL import Image\n",
    "import requests\n",
    "import io\n",
    "import os\n",
    "import pickle as pkl\n",
    "import pandas as pd\n",
    "import numpy as np\n",
    "import urllib.request\n",
    "\n",
    "DATA_DIR=\"Data\"\n",
    "IMAGE_PATH=\"{}/Images\""
   ]
  },
  {
   "cell_type": "markdown",
   "metadata": {},
   "source": [
    "# Getting the Database\n",
    "\n",
    "Run this cell if you do not have an up to date cardData.csv file in your data directory."
   ]
  },
  {
   "cell_type": "code",
   "execution_count": 4,
   "metadata": {
    "scrolled": false
   },
   "outputs": [
    {
     "name": "stdout",
     "output_type": "stream",
     "text": [
      "<class 'pandas.core.frame.DataFrame'>\n",
      "RangeIndex: 35983 entries, 0 to 35982\n",
      "Data columns (total 39 columns):\n",
      "artist            35983 non-null object\n",
      "border            22 non-null object\n",
      "cmc               35983 non-null float64\n",
      "color_identity    31897 non-null object\n",
      "colors            28223 non-null object\n",
      "flavor            21356 non-null object\n",
      "foreign_names     23871 non-null object\n",
      "hand              116 non-null float64\n",
      "id                35983 non-null object\n",
      "image_url         33753 non-null object\n",
      "layout            35983 non-null object\n",
      "legalities        35171 non-null object\n",
      "life              116 non-null float64\n",
      "loyalty           203 non-null float64\n",
      "mana_cost         31671 non-null object\n",
      "multiverse_id     33753 non-null float64\n",
      "name              35983 non-null object\n",
      "names             475 non-null object\n",
      "number            29781 non-null object\n",
      "original_text     33298 non-null object\n",
      "original_type     34034 non-null object\n",
      "power             16760 non-null object\n",
      "printings         35983 non-null object\n",
      "rarity            35983 non-null object\n",
      "release_date      1122 non-null object\n",
      "rulings           17348 non-null object\n",
      "set               35983 non-null object\n",
      "set_name          35983 non-null object\n",
      "source            1855 non-null object\n",
      "starter           47 non-null object\n",
      "subtypes          21721 non-null object\n",
      "supertypes        3738 non-null object\n",
      "text              33353 non-null object\n",
      "timeshifted       248 non-null object\n",
      "toughness         16760 non-null object\n",
      "type              35983 non-null object\n",
      "types             35977 non-null object\n",
      "variations        2115 non-null object\n",
      "watermark         3756 non-null object\n",
      "dtypes: float64(5), object(34)\n",
      "memory usage: 10.7+ MB\n"
     ]
    }
   ],
   "source": [
    "cards = crd.all()\n",
    "cDict = [c.__dict__ for c in cards]\n",
    "df = pd.DataFrame(cDict)\n",
    "if(not os.path.exists(DATA_DIR)):\n",
    "    os.path.makedirs(DATA_DIR)\n",
    "df.to_csv('Data/cardData.csv', encoding='utf-8')\n",
    "df.info()"
   ]
  },
  {
   "cell_type": "markdown",
   "metadata": {},
   "source": [
    "Run this cell if you already have the csv file."
   ]
  },
  {
   "cell_type": "code",
   "execution_count": 6,
   "metadata": {},
   "outputs": [
    {
     "name": "stdout",
     "output_type": "stream",
     "text": [
      "<class 'pandas.core.frame.DataFrame'>\n",
      "RangeIndex: 35983 entries, 0 to 35982\n",
      "Data columns (total 40 columns):\n",
      "Unnamed: 0        35983 non-null int64\n",
      "artist            35983 non-null object\n",
      "border            22 non-null object\n",
      "cmc               35983 non-null float64\n",
      "color_identity    31897 non-null object\n",
      "colors            28223 non-null object\n",
      "flavor            21356 non-null object\n",
      "foreign_names     23871 non-null object\n",
      "hand              116 non-null float64\n",
      "id                35983 non-null object\n",
      "image_url         33753 non-null object\n",
      "layout            35983 non-null object\n",
      "legalities        35171 non-null object\n",
      "life              116 non-null float64\n",
      "loyalty           203 non-null float64\n",
      "mana_cost         31671 non-null object\n",
      "multiverse_id     33753 non-null float64\n",
      "name              35983 non-null object\n",
      "names             475 non-null object\n",
      "number            29781 non-null object\n",
      "original_text     33298 non-null object\n",
      "original_type     34034 non-null object\n",
      "power             16760 non-null object\n",
      "printings         35983 non-null object\n",
      "rarity            35983 non-null object\n",
      "release_date      1122 non-null object\n",
      "rulings           17348 non-null object\n",
      "set               35983 non-null object\n",
      "set_name          35983 non-null object\n",
      "source            1855 non-null object\n",
      "starter           47 non-null object\n",
      "subtypes          21721 non-null object\n",
      "supertypes        3738 non-null object\n",
      "text              33353 non-null object\n",
      "timeshifted       248 non-null object\n",
      "toughness         16760 non-null object\n",
      "type              35977 non-null object\n",
      "types             35977 non-null object\n",
      "variations        2115 non-null object\n",
      "watermark         3756 non-null object\n",
      "dtypes: float64(5), int64(1), object(34)\n",
      "memory usage: 11.0+ MB\n"
     ]
    },
    {
     "name": "stderr",
     "output_type": "stream",
     "text": [
      "C:\\Users\\JWinters\\Anaconda3\\lib\\site-packages\\IPython\\core\\interactiveshell.py:2698: DtypeWarning: Columns (2,18,25,29,30,34) have mixed types. Specify dtype option on import or set low_memory=False.\n",
      "  interactivity=interactivity, compiler=compiler, result=result)\n"
     ]
    }
   ],
   "source": [
    "df = pd.read_csv(\"Data/cardData.csv\")\n",
    "df.info()"
   ]
  },
  {
   "cell_type": "markdown",
   "metadata": {},
   "source": [
    "<h3>Trim dataframe to Contain Only Card Name and Image Path of Correct Set</h3>"
   ]
  },
  {
   "cell_type": "code",
   "execution_count": 7,
   "metadata": {},
   "outputs": [
    {
     "data": {
      "text/html": [
       "<div>\n",
       "<style>\n",
       "    .dataframe thead tr:only-child th {\n",
       "        text-align: right;\n",
       "    }\n",
       "\n",
       "    .dataframe thead th {\n",
       "        text-align: left;\n",
       "    }\n",
       "\n",
       "    .dataframe tbody tr th {\n",
       "        vertical-align: top;\n",
       "    }\n",
       "</style>\n",
       "<table border=\"1\" class=\"dataframe\">\n",
       "  <thead>\n",
       "    <tr style=\"text-align: right;\">\n",
       "      <th></th>\n",
       "      <th>name</th>\n",
       "      <th>set_name</th>\n",
       "      <th>image_url</th>\n",
       "    </tr>\n",
       "  </thead>\n",
       "  <tbody>\n",
       "    <tr>\n",
       "      <th>11932</th>\n",
       "      <td>Adanto Vanguard</td>\n",
       "      <td>Ixalan</td>\n",
       "      <td>http://gatherer.wizards.com/Handlers/Image.ash...</td>\n",
       "    </tr>\n",
       "    <tr>\n",
       "      <th>11933</th>\n",
       "      <td>Ashes of the Abhorrent</td>\n",
       "      <td>Ixalan</td>\n",
       "      <td>http://gatherer.wizards.com/Handlers/Image.ash...</td>\n",
       "    </tr>\n",
       "    <tr>\n",
       "      <th>11934</th>\n",
       "      <td>Axis of Mortality</td>\n",
       "      <td>Ixalan</td>\n",
       "      <td>http://gatherer.wizards.com/Handlers/Image.ash...</td>\n",
       "    </tr>\n",
       "    <tr>\n",
       "      <th>11935</th>\n",
       "      <td>Bellowing Aegisaur</td>\n",
       "      <td>Ixalan</td>\n",
       "      <td>http://gatherer.wizards.com/Handlers/Image.ash...</td>\n",
       "    </tr>\n",
       "    <tr>\n",
       "      <th>11936</th>\n",
       "      <td>Bishop of Rebirth</td>\n",
       "      <td>Ixalan</td>\n",
       "      <td>http://gatherer.wizards.com/Handlers/Image.ash...</td>\n",
       "    </tr>\n",
       "    <tr>\n",
       "      <th>11937</th>\n",
       "      <td>Bishop's Soldier</td>\n",
       "      <td>Ixalan</td>\n",
       "      <td>http://gatherer.wizards.com/Handlers/Image.ash...</td>\n",
       "    </tr>\n",
       "    <tr>\n",
       "      <th>11938</th>\n",
       "      <td>Bright Reprisal</td>\n",
       "      <td>Ixalan</td>\n",
       "      <td>http://gatherer.wizards.com/Handlers/Image.ash...</td>\n",
       "    </tr>\n",
       "    <tr>\n",
       "      <th>11939</th>\n",
       "      <td>Demystify</td>\n",
       "      <td>Ixalan</td>\n",
       "      <td>http://gatherer.wizards.com/Handlers/Image.ash...</td>\n",
       "    </tr>\n",
       "    <tr>\n",
       "      <th>11940</th>\n",
       "      <td>Duskborne Skymarcher</td>\n",
       "      <td>Ixalan</td>\n",
       "      <td>http://gatherer.wizards.com/Handlers/Image.ash...</td>\n",
       "    </tr>\n",
       "    <tr>\n",
       "      <th>11941</th>\n",
       "      <td>Emissary of Sunrise</td>\n",
       "      <td>Ixalan</td>\n",
       "      <td>http://gatherer.wizards.com/Handlers/Image.ash...</td>\n",
       "    </tr>\n",
       "  </tbody>\n",
       "</table>\n",
       "</div>"
      ],
      "text/plain": [
       "                         name set_name  \\\n",
       "11932         Adanto Vanguard   Ixalan   \n",
       "11933  Ashes of the Abhorrent   Ixalan   \n",
       "11934       Axis of Mortality   Ixalan   \n",
       "11935      Bellowing Aegisaur   Ixalan   \n",
       "11936       Bishop of Rebirth   Ixalan   \n",
       "11937        Bishop's Soldier   Ixalan   \n",
       "11938         Bright Reprisal   Ixalan   \n",
       "11939               Demystify   Ixalan   \n",
       "11940    Duskborne Skymarcher   Ixalan   \n",
       "11941     Emissary of Sunrise   Ixalan   \n",
       "\n",
       "                                               image_url  \n",
       "11932  http://gatherer.wizards.com/Handlers/Image.ash...  \n",
       "11933  http://gatherer.wizards.com/Handlers/Image.ash...  \n",
       "11934  http://gatherer.wizards.com/Handlers/Image.ash...  \n",
       "11935  http://gatherer.wizards.com/Handlers/Image.ash...  \n",
       "11936  http://gatherer.wizards.com/Handlers/Image.ash...  \n",
       "11937  http://gatherer.wizards.com/Handlers/Image.ash...  \n",
       "11938  http://gatherer.wizards.com/Handlers/Image.ash...  \n",
       "11939  http://gatherer.wizards.com/Handlers/Image.ash...  \n",
       "11940  http://gatherer.wizards.com/Handlers/Image.ash...  \n",
       "11941  http://gatherer.wizards.com/Handlers/Image.ash...  "
      ]
     },
     "execution_count": 7,
     "metadata": {},
     "output_type": "execute_result"
    }
   ],
   "source": [
    "df[[\"name\", \"image_url\"]].head(10)\n",
    "dftemp = df.loc[df['set_name'] == 'Ixalan']\n",
    "dfimg = dftemp[['name', 'set_name', 'image_url']].dropna()\n",
    "dfimg.head(10)"
   ]
  },
  {
   "cell_type": "code",
   "execution_count": 8,
   "metadata": {
    "scrolled": true
   },
   "outputs": [],
   "source": [
    "for index,row in dfimg.iterrows():\n",
    "    url=row.image_url\n",
    "    name = row['name']\n",
    "    set_name = row.set_name\n",
    "    directory = \"Data/Images/{}\".format(set_name)\n",
    "    if(not os.path.exists(directory)):\n",
    "        os.makedirs(directory)\n",
    "    urllib.request.urlretrieve(url, \"Data/Images/{}/{}.jpg\".format(set_name,name))"
   ]
  },
  {
   "cell_type": "code",
   "execution_count": null,
   "metadata": {
    "collapsed": true
   },
   "outputs": [],
   "source": []
  }
 ],
 "metadata": {
  "kernelspec": {
   "display_name": "Python 3",
   "language": "python",
   "name": "python3"
  },
  "language_info": {
   "codemirror_mode": {
    "name": "ipython",
    "version": 3
   },
   "file_extension": ".py",
   "mimetype": "text/x-python",
   "name": "python",
   "nbconvert_exporter": "python",
   "pygments_lexer": "ipython3",
   "version": "3.6.3"
  }
 },
 "nbformat": 4,
 "nbformat_minor": 2
}
